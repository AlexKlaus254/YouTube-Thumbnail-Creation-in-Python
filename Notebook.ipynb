{
  "cells": [
    {
      "cell_type": "code",
      "execution_count": 1,
      "metadata": {
        "colab": {
          "base_uri": "https://localhost:8080/"
        },
        "id": "uSXp5KFJcFf7",
        "outputId": "05ff365e-223e-4b13-d8a0-358c8bc8dea9"
      },
      "outputs": [
        {
          "name": "stdout",
          "output_type": "stream",
          "text": [
            "Drive already mounted at /content/drive; to attempt to forcibly remount, call drive.mount(\"/content/drive\", force_remount=True).\n"
          ]
        }
      ],
      "source": [
        "from google.colab import drive\n",
        "drive.mount('/content/drive')\n",
        "\n",
        "\n",
        "import re\n",
        "from PIL import Image, ImageDraw, ImageFont, ImageColor\n",
        "import os\n",
        "import shutil\n",
        "import random\n",
        "from PIL import Image, ImageDraw, ImageFont"
      ]
    },
    {
      "cell_type": "code",
      "execution_count": 2,
      "metadata": {
        "colab": {
          "base_uri": "https://localhost:8080/",
          "height": 54
        },
        "id": "CdR1aOX44w-q",
        "outputId": "c83fb485-15f6-4144-f55f-acb8dc33c650"
      },
      "outputs": [
        {
          "data": {
            "application/vnd.google.colaboratory.intrinsic+json": {
              "type": "string"
            },
            "text/plain": [
              "\"\\nlang_list = ['Spanish', 'French', 'Italian', 'German']\\nobject_image_folder = '/content/drive/My Drive/YOUTUBE_MANAGER/REDDIT_STORIES/SHOCKEDFACES_USED'\\nfont_path = '/content/drive/My Drive/YOUTUBE_MANAGER/Archive/FONTS/Inter-Bold.ttf'\\nlist_of_faces = os.listdir(object_image_folder)\\nrandom.shuffle(list_of_faces)\\n\""
            ]
          },
          "execution_count": 2,
          "metadata": {},
          "output_type": "execute_result"
        }
      ],
      "source": [
        "\n",
        "lang_list = ['Spanish', 'French', 'Italian', 'German']\n",
        "object_image_folder = '/content/drive/My Drive/YOUTUBE_MANAGER/REDDIT_STORIES/SHOCKEDFACES_USED'\n",
        "font_path = '/content/drive/My Drive/YOUTUBE_MANAGER/Archive/FONTS/Inter-Bold.ttf'\n",
        "list_of_faces = os.listdir(object_image_folder)\n",
        "random.shuffle(list_of_faces)\n"
      ]
    },
    {
      "cell_type": "code",
      "execution_count": 3,
      "metadata": {
        "id": "PhuNb8lT4rz7"
      },
      "outputs": [],
      "source": [
        "def read_text_file(file_path):\n",
        "    with open(file_path, \"r\") as file:\n",
        "        return file.read()"
      ]
    },
    {
      "cell_type": "code",
      "execution_count": 4,
      "metadata": {
        "id": "7EuUBbzGcHTo"
      },
      "outputs": [],
      "source": [
        "from PIL import Image, ImageDraw\n",
        "\n",
        "\n",
        "def create_thumbnail(face_image_path, output_path):\n",
        "    # Define dimensions\n",
        "    width = 1920\n",
        "    height = 1080\n",
        "\n",
        "    # Create a new image with white background\n",
        "    thumbnail = Image.new(\"RGB\", (width, height), \"black\")\n",
        "    draw = ImageDraw.Draw(thumbnail)\n",
        "\n",
        "    # Load face image\n",
        "    #face_image = '/content/drive/MyDrive/1710089975-1709630662-files-(2)/files/images (15).jpeg'\n",
        "    #face_image = Image.open(face_image)\n",
        "\n",
        "    # Resize face image to occupy half the width and full height of the final image\n",
        "    face_image = face_image.resize((width // 2, height))\n",
        "\n",
        "    # Paste face image on the right side\n",
        "    thumbnail.paste(face_image, (width // 2, 0))\n",
        "\n",
        "    # Draw black box on the left top side (2/3 of the height)\n",
        "    draw.rectangle([0, 0, width // 2, 2 * height // 3], fill=\"black\")\n",
        "\n",
        "    # Draw blue box on the left bottom side (1/3 of the height)\n",
        "    draw.rectangle([0, 2 * height // 3, width // 2, height], fill=\"blue\")\n",
        "\n",
        "    # Save the final thumbnail\n",
        "    thumbnail.save(output_path)\n",
        "\n",
        "    # Display the thumbnail\n",
        "    display(thumbnail)\n",
        "\n",
        "\n",
        "# Example usage:\n",
        "#create_thumbnail(\"face_image.jpg\", \"thumbnail.jpg\")\n"
      ]
    },
    {
      "cell_type": "code",
      "execution_count": 5,
      "metadata": {
        "id": "kk5D4lZ-6cTP"
      },
      "outputs": [],
      "source": [
        "from PIL import Image, ImageDraw, ImageFont\n",
        "\n",
        "def add_text_to_thumbnail(text_file_path, output_path, font_path):\n",
        "    # Open the text file and read the content\n",
        "    with open(text_file_path, 'r') as file:\n",
        "        text = file.read()\n",
        "\n",
        "    # Define thumbnail dimensions\n",
        "    width = 1920\n",
        "    height = 1080\n",
        "\n",
        "    # Load the thumbnail image\n",
        "    thumbnail = Image.open(output_path)\n",
        "    draw = ImageDraw.Draw(thumbnail)\n",
        "\n",
        "    # Define font settings\n",
        "    max_font_size = 100\n",
        "    min_font_size = 20\n",
        "    font = ImageFont.truetype(font_path, max_font_size)\n",
        "\n",
        "    # Define maximum text width and height\n",
        "    max_text_width = width // 2 - 20\n",
        "    max_text_height = 2 * height // 3 - 20\n",
        "\n",
        "    # Initialize font size and text wrapping\n",
        "    font_size = max_font_size\n",
        "    wrapped_text = ''\n",
        "\n",
        "    # Dynamically adjust font size and wrap text\n",
        "    while True:\n",
        "        # Resize font\n",
        "        font = ImageFont.truetype(font_path, font_size)\n",
        "\n",
        "        # Wrap text to fit within the maximum text width\n",
        "        lines = []\n",
        "        line = ''\n",
        "        for word in text.split():\n",
        "            if draw.textsize(line + word, font=font)[0] <= max_text_width:\n",
        "                line += word + ' '\n",
        "            else:\n",
        "                lines.append(line)\n",
        "                line = word + ' '\n",
        "        lines.append(line)\n",
        "        wrapped_text = '\\n'.join(lines)\n",
        "\n",
        "        # Check if wrapped text fits within the maximum text height\n",
        "        wrapped_text_width, wrapped_text_height = draw.textsize(wrapped_text, font=font)\n",
        "        if wrapped_text_height <= max_text_height:\n",
        "            break\n",
        "\n",
        "        # Reduce font size\n",
        "        font_size -= 1\n",
        "\n",
        "        # Break if font size reaches minimum\n",
        "        if font_size < min_font_size:\n",
        "            break\n",
        "\n",
        "    # Calculate position for the text\n",
        "    text_x = 10\n",
        "    text_y = 10\n",
        "\n",
        "    # Draw the wrapped text on the black box\n",
        "    draw.text((text_x, text_y), wrapped_text, fill=\"gold\", font=font, align=\"center\")\n",
        "\n",
        "    # Save the final thumbnail with text\n",
        "    thumbnail.save(output_path)\n",
        "\n",
        "    # Display the thumbnail with text\n",
        "    display(thumbnail)\n",
        "\n",
        "# Example usage:\n",
        "#font_path = '/content/drive/MyDrive/1710089975-1709630662-files-(2)/files/Inter-Bold.ttf'\n",
        "#text_file_path = '/content/drive/MyDrive/1710089975-1709630662-files-(2)/files/German_1.txt' # Path to your text file\n",
        "#output_path = '/content/thumbnail.jpg'  # Path to the thumbnail image created previously\n",
        "#add_text_to_thumbnail(text_file_path, output_path, font_path)\n"
      ]
    },
    {
      "cell_type": "code",
      "execution_count": 6,
      "metadata": {
        "id": "OwTwdBWb6cnK"
      },
      "outputs": [],
      "source": [
        "from PIL import Image, ImageDraw, ImageFont\n",
        "\n",
        "def add_text_to_blue_box(text_file_path, output_path, font_path2):\n",
        "    # Open the text file and read the content\n",
        "    #with open(text_file_path, 'r') as file:\n",
        "        #text = file.read()\n",
        "\n",
        "    # Define thumbnail dimensions\n",
        "    width = 1920//2\n",
        "    height = 1080\n",
        "\n",
        "    # Load the thumbnail image\n",
        "    thumbnail = Image.open(output_path)\n",
        "    draw = ImageDraw.Draw(thumbnail)\n",
        "\n",
        "    # Define font settings\n",
        "    max_font_size = 100\n",
        "    min_font_size = 20\n",
        "    font = ImageFont.truetype(font_path2, max_font_size)\n",
        "\n",
        "    # Define maximum text width and height\n",
        "    max_text_width = width - 20\n",
        "    max_text_height = height // 3 - 20\n",
        "\n",
        "    # Initialize font size and text wrapping\n",
        "    font_size = max_font_size\n",
        "    wrapped_text = ''\n",
        "\n",
        "    # Dynamically adjust font size and wrap text\n",
        "    while True:\n",
        "        # Resize font\n",
        "        font = ImageFont.truetype(font_path2, font_size)\n",
        "\n",
        "        # Wrap text to fit within the maximum text width\n",
        "        lines = []\n",
        "        line = ''\n",
        "        for word in text.split():\n",
        "            if draw.textsize(line + word, font=font)[0] <= max_text_width:\n",
        "                line += word + ' '\n",
        "            else:\n",
        "                lines.append(line)\n",
        "                line = word + ' '\n",
        "        lines.append(line)\n",
        "        wrapped_text = '\\n'.join(lines)\n",
        "\n",
        "        # Check if wrapped text fits within the maximum text height\n",
        "        wrapped_text_width, wrapped_text_height = draw.textsize(wrapped_text, font=font)\n",
        "        if wrapped_text_height <= max_text_height:\n",
        "            break\n",
        "\n",
        "        # Reduce font size\n",
        "        font_size -= 1\n",
        "\n",
        "        # Break if font size reaches minimum\n",
        "        if font_size < min_font_size:\n",
        "            break\n",
        "\n",
        "    # Calculate position for the text\n",
        "    text_width, text_height = draw.textsize(wrapped_text, font=font)\n",
        "    text_x = width // 4 + (width // 2 - text_width) // 2\n",
        "    text_y = 2 * height // 3 + (height // 3 - text_height) // 2\n",
        "\n",
        "    # Draw the wrapped text on the blue box\n",
        "    draw.text((text_x, text_y), wrapped_text, fill=\"white\", font=font, align=\"center\")\n",
        "\n",
        "    # Save the final thumbnail with text\n",
        "    thumbnail.save(output_path)\n",
        "\n",
        "    # Display the thumbnail with text\n",
        "    display(thumbnail)\n",
        "\n",
        "# Example usage:\n",
        "#font_path = '/content/drive/My Drive/YOUTUBE_MANAGER/Archive/FONTS/ProtestRiot-Regular.ttf'\n",
        "#text_file_path = '/content/drive/MyDrive/1710089975-1709630662-files-(2)/files/German_1.txt' # Path to your text file\n",
        "#output_path = '/content/thumbnail.jpg'  # Path to the thumbnail image created previously\n",
        "#add_text_to_blue_box(text_file_path, output_path, font_path)\n"
      ]
    },
    {
      "cell_type": "code",
      "execution_count": null,
      "metadata": {
        "colab": {
          "base_uri": "https://localhost:8080/",
          "height": 219
        },
        "id": "wnJNutEq5O0C",
        "outputId": "e6d4176c-57a1-47f2-b947-2b284a1a2cb6"
      },
      "outputs": [],
      "source": [
        "#######################################\n",
        "##### run creation  ###################\n",
        "######################################\n",
        "lang_list = ['Spanish', 'French', 'Italian', 'German']\n",
        "folder_words = '/content/drive/My Drive/YOUTUBE_MANAGER/REDDIT_STORIES/English/THUMBNAILS_TEXT'\n",
        "\n",
        "\n",
        "object_image_folder = '/content/drive/My Drive/YOUTUBE_MANAGER/REDDIT_STORIES/SHOCKEDFACES_USED'\n",
        "\n",
        "list_of_faces = os.listdir(object_image_folder)\n",
        "random.shuffle(list_of_faces)\n",
        "\n",
        "font_path = '/content/drive/My Drive/YOUTUBE_MANAGER/Archive/FONTS/Inter-Bold.ttf'\n",
        "font_path2 = '/content/drive/My Drive/YOUTUBE_MANAGER/Archive/FONTS/ProtestRiot-Regular.ttf'\n",
        "\n",
        "for i, lang in enumerate(lang_list):\n",
        "    lang_folder = os.path.join('/content/drive/My Drive/YOUTUBE_MANAGER/REDDIT_STORIES/', lang, 'THUMBNAILS_TEXT')\n",
        "    text_file_path = os.path.join(lang_folder, lang + f'_1.txt')\n",
        "    text = read_text_file(text_file_path)\n",
        "\n",
        "    face_image = list_of_faces[i]\n",
        "    output_path = f'/content/thumbnail_{lang}.jpg'\n",
        "\n",
        "    create_thumbnail(face_image, output_path)\n",
        "    add_text_to_thumbnail(text, output_path, font_path)\n",
        "    add_text_to_blue_box(text, output_path, font_path2)"
      ]
    },
    {
      "cell_type": "code",
      "execution_count": null,
      "metadata": {
        "id": "jMRSHTXw6cpz"
      },
      "outputs": [],
      "source": []
    },
    {
      "cell_type": "code",
      "execution_count": null,
      "metadata": {
        "id": "-snTbDuMchen"
      },
      "outputs": [],
      "source": []
    },
    {
      "cell_type": "code",
      "execution_count": null,
      "metadata": {
        "id": "6xqcL3r40Jv4"
      },
      "outputs": [],
      "source": []
    }
  ],
  "metadata": {
    "colab": {
      "provenance": []
    },
    "kernelspec": {
      "display_name": "Python 3",
      "name": "python3"
    },
    "language_info": {
      "name": "python"
    }
  },
  "nbformat": 4,
  "nbformat_minor": 0
}
